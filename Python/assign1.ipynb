{
 "cells": [
  {
   "cell_type": "markdown",
   "metadata": {},
   "source": [
    "### 1- What is Python and why is it useful?\n",
    "Python is a computer programming language. Also you can say that Python is Object Oriented Programming Language due to its support for classes, encapsulation, polymorphism, inheritance ect. Python is very useful language. You can use Python to wrangle, analayze, and visualize data. You can also use it in general purpose such as creating programs and applications.  "
   ]
  },
  {
   "cell_type": "markdown",
   "metadata": {},
   "source": [
    "### 2- Are the following variable names allowed in python?\n",
    "\n",
    "a. 1_message: Variable started with a number will rize an error such invalid token\n",
    "\n",
    "b. Greeting_message: Works fine\n",
    "\n",
    "c. Message_1: works fine\n",
    "\n",
    "d. First name: variable has space will rize an error such invalid syntax\n",
    "\n",
    "e. Full_name: works fine"
   ]
  },
  {
   "cell_type": "markdown",
   "metadata": {},
   "source": [
    "### 3 - Create a variable that holds the string “hello there!”"
   ]
  },
  {
   "cell_type": "code",
   "execution_count": null,
   "metadata": {},
   "outputs": [],
   "source": [
    "greeting=\"Hello there!\""
   ]
  },
  {
   "cell_type": "markdown",
   "metadata": {},
   "source": [
    "### 4.\tCreate a variable for first name, last name and an email extension.  Concatenating all three together to form an email address.  For example: firstnamelastname@gmail.com"
   ]
  },
  {
   "cell_type": "code",
   "execution_count": 2,
   "metadata": {},
   "outputs": [
    {
     "name": "stdout",
     "output_type": "stream",
     "text": [
      "Here is your email:  MustaphaBouchaqour@gmail.com\n"
     ]
    }
   ],
   "source": [
    "fname,lname,email_extension=\"Mustapha\",\"Bouchaqour\",\"gmail.com\"\n",
    "your_email=fname+lname+\"@\"+email_extension\n",
    "print(\"Here is your email: \", your_email)\n"
   ]
  },
  {
   "cell_type": "markdown",
   "metadata": {},
   "source": [
    "### 5. Store someone you know name in a variable called name.  Print their name in lower and uppercase using a method."
   ]
  },
  {
   "cell_type": "code",
   "execution_count": 8,
   "metadata": {},
   "outputs": [
    {
     "name": "stdout",
     "output_type": "stream",
     "text": [
      "Original name\tUpper name\t Lower name\n",
      "Jeffry \t\t JEFFRY \t jeffry\n"
     ]
    }
   ],
   "source": [
    "someone_name=\"Jeffry\"\n",
    "lower_name=someone_name.lower()\n",
    "upper_name=someone_name.upper()\n",
    "print('Original name\\tUpper name\\t Lower name')\n",
    "print(someone_name,\"\\t\\t\", upper_name,\"\\t\",lower_name)"
   ]
  },
  {
   "cell_type": "markdown",
   "metadata": {},
   "source": [
    "### 6.\tUsing a variable, ask your friend if they want to hang out on the 15th of the month.  For example, “Do you want to hang out on the 15th of this month?”  You should have to convert the number to a string"
   ]
  },
  {
   "cell_type": "code",
   "execution_count": 10,
   "metadata": {},
   "outputs": [
    {
     "name": "stdout",
     "output_type": "stream",
     "text": [
      "Thank you, see on 15th of this month\n"
     ]
    }
   ],
   "source": [
    "friend_resp=input(\"Do you want to hang out on the 15th of this month? Yes/No \")\n",
    "if friend_resp.title() !='Yes':\n",
    "    print('Alright, next time')\n",
    "else:\n",
    "    print('Thank you, see on 15th of this month')\n"
   ]
  }
 ],
 "metadata": {
  "interpreter": {
   "hash": "4fe423c96aa21f041534bead582c2e6c3f42ab46597860deda9051867850283b"
  },
  "kernelspec": {
   "display_name": "Python 3.8.5 32-bit",
   "language": "python",
   "name": "python3"
  },
  "language_info": {
   "codemirror_mode": {
    "name": "ipython",
    "version": 3
   },
   "file_extension": ".py",
   "mimetype": "text/x-python",
   "name": "python",
   "nbconvert_exporter": "python",
   "pygments_lexer": "ipython3",
   "version": "3.8.5"
  },
  "orig_nbformat": 4
 },
 "nbformat": 4,
 "nbformat_minor": 2
}

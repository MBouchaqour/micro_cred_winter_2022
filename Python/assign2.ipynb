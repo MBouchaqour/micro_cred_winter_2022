{
 "cells": [
  {
   "cell_type": "code",
   "execution_count": 6,
   "metadata": {},
   "outputs": [
    {
     "name": "stdout",
     "output_type": "stream",
     "text": [
      "[\"It's A Sin\", 'WandaVision', 'Feel Good: Season 2', 'The White Lotus', 'Midnight Mass']\n"
     ]
    }
   ],
   "source": [
    "# Create a list of 5 of your favorite tv shows.\n",
    "tv_list=[\"It's A Sin\",'WandaVision','Feel Good: Season 2','The White Lotus','Midnight Mass']\n",
    "#printing the list\n",
    "print(tv_list)"
   ]
  },
  {
   "cell_type": "code",
   "execution_count": 9,
   "metadata": {},
   "outputs": [
    {
     "name": "stdout",
     "output_type": "stream",
     "text": [
      "['Feel Good: Season 2', \"It's A Sin\", 'Midnight Mass', 'The White Lotus', 'WandaVision']\n"
     ]
    }
   ],
   "source": [
    "# 3.Use the sorted() function to print the list in alphabetical order. \n",
    "print(sorted(tv_list)) \n",
    "# How is sorted() different from sort()? \n",
    "#sort(): it is sorting the elements of the list inplace, in other words, sort() change the original list order\n",
    "#sorted(): it is sorting the elements of the list not inplcae, in other words, sorted() does not change the original list order\n",
    "\n",
    "\n"
   ]
  },
  {
   "cell_type": "code",
   "execution_count": 10,
   "metadata": {},
   "outputs": [
    {
     "name": "stdout",
     "output_type": "stream",
     "text": [
      "[\"It's A Sin\", 'WandaVision', 'Feel Good: Season 2', 'The White Lotus', 'Midnight Mass']\n"
     ]
    }
   ],
   "source": [
    "# 4.\tPrint out your original list\n",
    "print(tv_list)"
   ]
  },
  {
   "cell_type": "code",
   "execution_count": 13,
   "metadata": {},
   "outputs": [
    {
     "name": "stdout",
     "output_type": "stream",
     "text": [
      "['WandaVision', 'The White Lotus', 'Midnight Mass', \"It's A Sin\", 'Feel Good: Season 2']\n"
     ]
    }
   ],
   "source": [
    "# 5.\tUsed sorted() to print your list in reverse alphabetical order.\n",
    "print(sorted(tv_list,reverse= True))"
   ]
  },
  {
   "cell_type": "code",
   "execution_count": 15,
   "metadata": {},
   "outputs": [
    {
     "name": "stdout",
     "output_type": "stream",
     "text": [
      "The number of favorite TV shows you have is: 5\n"
     ]
    }
   ],
   "source": [
    "# 6.\tCreate a message indicating how many favorite TV shows you have – use the len() function.\n",
    "print(f\"The number of favorite TV shows you have is: {len(tv_list)}\")"
   ]
  },
  {
   "cell_type": "code",
   "execution_count": null,
   "metadata": {},
   "outputs": [],
   "source": []
  }
 ],
 "metadata": {
  "interpreter": {
   "hash": "4fe423c96aa21f041534bead582c2e6c3f42ab46597860deda9051867850283b"
  },
  "kernelspec": {
   "display_name": "Python 3.8.5 32-bit",
   "language": "python",
   "name": "python3"
  },
  "language_info": {
   "codemirror_mode": {
    "name": "ipython",
    "version": 3
   },
   "file_extension": ".py",
   "mimetype": "text/x-python",
   "name": "python",
   "nbconvert_exporter": "python",
   "pygments_lexer": "ipython3",
   "version": "3.8.5"
  },
  "orig_nbformat": 4
 },
 "nbformat": 4,
 "nbformat_minor": 2
}

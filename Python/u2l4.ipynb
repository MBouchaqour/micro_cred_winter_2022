{
  "nbformat": 4,
  "nbformat_minor": 0,
  "metadata": {
    "colab": {
      "name": "u2l4.ipynb",
      "provenance": [],
      "collapsed_sections": [],
      "authorship_tag": "ABX9TyO3qkt0bsIF5X30QA6TwNAC"
    },
    "kernelspec": {
      "name": "python3",
      "display_name": "Python 3"
    },
    "language_info": {
      "name": "python"
    }
  },
  "cells": [
    {
      "cell_type": "code",
      "execution_count": 1,
      "metadata": {
        "colab": {
          "base_uri": "https://localhost:8080/"
        },
        "id": "2peD-Sl-K8J1",
        "outputId": "31f05e41-a2ca-4db1-c133-8ce6bcef3a90"
      },
      "outputs": [
        {
          "output_type": "execute_result",
          "data": {
            "text/plain": [
              "[0, 1, 2, 3, 4]"
            ]
          },
          "metadata": {},
          "execution_count": 1
        }
      ],
      "source": [
        "#creating a list contains 5 data variable\n",
        "the_list=list(range(5))\n",
        "the_list"
      ]
    },
    {
      "cell_type": "code",
      "source": [
        "#print data using for loop\n",
        "for item in the_list:\n",
        "  print(item)"
      ],
      "metadata": {
        "colab": {
          "base_uri": "https://localhost:8080/"
        },
        "id": "sUsO-Pf_LjuA",
        "outputId": "390c357a-5e22-4c0e-8d04-932ebbc032ae"
      },
      "execution_count": 2,
      "outputs": [
        {
          "output_type": "stream",
          "name": "stdout",
          "text": [
            "0\n",
            "1\n",
            "2\n",
            "3\n",
            "4\n"
          ]
        }
      ]
    },
    {
      "cell_type": "code",
      "source": [
        "#adding message to for loop\n",
        "for i in range(5):\n",
        "  print('element at index ', i, ' is ', the_list[i])"
      ],
      "metadata": {
        "colab": {
          "base_uri": "https://localhost:8080/"
        },
        "id": "igs8b3KoMNHF",
        "outputId": "010c4c69-171c-49a4-ea5b-cbb701866a4f"
      },
      "execution_count": 3,
      "outputs": [
        {
          "output_type": "stream",
          "name": "stdout",
          "text": [
            "element at index  0  is  0\n",
            "element at index  1  is  1\n",
            "element at index  2  is  2\n",
            "element at index  3  is  3\n",
            "element at index  4  is  4\n"
          ]
        }
      ]
    },
    {
      "cell_type": "code",
      "source": [
        "#using a for loop to print even numbers from 1-20\n",
        "for num in range(1,21):\n",
        "  if num%2==0:\n",
        "    print(num)"
      ],
      "metadata": {
        "colab": {
          "base_uri": "https://localhost:8080/"
        },
        "id": "CpRwDvSqM3QF",
        "outputId": "4adfb00a-96c6-4590-e21a-a5b39581ce68"
      },
      "execution_count": 5,
      "outputs": [
        {
          "output_type": "stream",
          "name": "stdout",
          "text": [
            "2\n",
            "4\n",
            "6\n",
            "8\n",
            "10\n",
            "12\n",
            "14\n",
            "16\n",
            "18\n",
            "20\n"
          ]
        }
      ]
    },
    {
      "cell_type": "code",
      "source": [
        "# 5.\tSort your list in alphabetic order.\n",
        "the_list_word=['Hello','Banana','School','Snow','milk']\n",
        "the_list_word.sort()\n",
        "the_list_word"
      ],
      "metadata": {
        "colab": {
          "base_uri": "https://localhost:8080/"
        },
        "id": "rDkvNyV8M3Tp",
        "outputId": "0c666fcd-62cd-4d55-bb31-b078a03fc83a"
      },
      "execution_count": 6,
      "outputs": [
        {
          "output_type": "execute_result",
          "data": {
            "text/plain": [
              "['Banana', 'Hello', 'School', 'Snow', 'milk']"
            ]
          },
          "metadata": {},
          "execution_count": 6
        }
      ]
    },
    {
      "cell_type": "code",
      "source": [
        "# 6.\tPrint out the first three elements of your list.\n",
        "the_list_word[:3]"
      ],
      "metadata": {
        "colab": {
          "base_uri": "https://localhost:8080/"
        },
        "id": "NUABUBYdM3XJ",
        "outputId": "247b79ea-c373-40a9-e21e-1a1b5af68fdb"
      },
      "execution_count": 7,
      "outputs": [
        {
          "output_type": "execute_result",
          "data": {
            "text/plain": [
              "['Banana', 'Hello', 'School']"
            ]
          },
          "metadata": {},
          "execution_count": 7
        }
      ]
    },
    {
      "cell_type": "code",
      "source": [
        "# 7.\tCreate a loop to print the last 2 elements of your list.\n",
        "for item in the_list_word[-2:]:\n",
        "  print(item)"
      ],
      "metadata": {
        "colab": {
          "base_uri": "https://localhost:8080/"
        },
        "id": "YBZJPulBM3Z5",
        "outputId": "9e3da040-986a-4c6b-c555-ec4414af8b95"
      },
      "execution_count": 15,
      "outputs": [
        {
          "output_type": "stream",
          "name": "stdout",
          "text": [
            "Snow\n",
            "milk\n"
          ]
        }
      ]
    }
  ]
}
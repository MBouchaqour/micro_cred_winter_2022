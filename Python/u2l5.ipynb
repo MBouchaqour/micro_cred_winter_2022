{
  "nbformat": 4,
  "nbformat_minor": 0,
  "metadata": {
    "colab": {
      "name": "u2l5.ipynb",
      "provenance": [],
      "collapsed_sections": [],
      "authorship_tag": "ABX9TyNts/79rSlQugjCgkAPKQZg",
      "include_colab_link": true
    },
    "kernelspec": {
      "name": "python3",
      "display_name": "Python 3"
    },
    "language_info": {
      "name": "python"
    }
  },
  "cells": [
    {
      "cell_type": "markdown",
      "metadata": {
        "id": "view-in-github",
        "colab_type": "text"
      },
      "source": [
        "<a href=\"https://colab.research.google.com/github/MBouchaqour/micro_cred_winter_2022/blob/main/Python/u2l5.ipynb\" target=\"_parent\"><img src=\"https://colab.research.google.com/assets/colab-badge.svg\" alt=\"Open In Colab\"/></a>"
      ]
    },
    {
      "cell_type": "markdown",
      "source": [
        "1.Make a list of 5 or more usernames, including an admin account.  Imagine you are writing code that will welcome people to your application on login. Loop through the list and print your greeting.\n",
        "\n",
        "a.\tIf the admin account logs in, give them a special greeting.  They’re the admin, after all!\n",
        "\n",
        "b.\tOther users can get the generic greeting\n"
      ],
      "metadata": {
        "id": "xJ1OF52QPc4a"
      }
    },
    {
      "cell_type": "code",
      "source": [
        "#defining a list of 5 user names\n",
        "the_list=['mustapha10','Kamal_2020','Mariam_Loop','admin','boucha111']\n"
      ],
      "metadata": {
        "id": "8PK_c587Pg_B"
      },
      "execution_count": 1,
      "outputs": []
    },
    {
      "cell_type": "code",
      "source": [
        "#using loop to go over data\n",
        "for item in the_list:\n",
        "  if item!='admin':\n",
        "    print(item, 'welcome back')\n",
        "  else:\n",
        "    print('-------------Hello admin!-----------------')"
      ],
      "metadata": {
        "colab": {
          "base_uri": "https://localhost:8080/"
        },
        "id": "lzaNrGO7PhqR",
        "outputId": "f55d024c-21ad-40fb-dda6-3632ff454f7b"
      },
      "execution_count": 5,
      "outputs": [
        {
          "output_type": "stream",
          "name": "stdout",
          "text": [
            "mustapha10 welcome back\n",
            "Kamal_2020 welcome back\n",
            "Mariam_Loop welcome back\n",
            "-------------Hello admin!-----------------\n",
            "boucha111 welcome back\n"
          ]
        }
      ]
    },
    {
      "cell_type": "markdown",
      "source": [
        "2.Store numbers 1-10 in a list\n",
        "\n",
        "a.\tLoop through the list\n",
        "\n",
        "b.\tUse an if-elif-else chain inside your loop to print the ordinal ending for each number – for example – 1st, 2nd, 3rd … etc.\n"
      ],
      "metadata": {
        "id": "pusoOeotQ-Zo"
      }
    },
    {
      "cell_type": "code",
      "source": [
        "int_list=list(range(1,11))\n",
        "int_list"
      ],
      "metadata": {
        "colab": {
          "base_uri": "https://localhost:8080/"
        },
        "id": "Qx0cEM_-PhtA",
        "outputId": "81657315-7a7a-47d7-b90f-4c6f965f55a5"
      },
      "execution_count": 6,
      "outputs": [
        {
          "output_type": "execute_result",
          "data": {
            "text/plain": [
              "[1, 2, 3, 4, 5, 6, 7, 8, 9, 10]"
            ]
          },
          "metadata": {},
          "execution_count": 6
        }
      ]
    },
    {
      "cell_type": "code",
      "source": [
        "# a - looping through the list\n",
        "for num in int_list:\n",
        "  print(num)"
      ],
      "metadata": {
        "colab": {
          "base_uri": "https://localhost:8080/"
        },
        "id": "OvYKozidRKwd",
        "outputId": "33d49cb3-018f-4316-86fa-305c48225ffb"
      },
      "execution_count": 7,
      "outputs": [
        {
          "output_type": "stream",
          "name": "stdout",
          "text": [
            "1\n",
            "2\n",
            "3\n",
            "4\n",
            "5\n",
            "6\n",
            "7\n",
            "8\n",
            "9\n",
            "10\n"
          ]
        }
      ]
    },
    {
      "cell_type": "code",
      "source": [
        "# answering b\n",
        "for num in int_list:\n",
        "  if num==1:\n",
        "    print(str(num)+'st')\n",
        "  elif num==2:\n",
        "    print(str(num)+'nd')\n",
        "  elif num==3:\n",
        "    print(str(num)+'rd')\n",
        "  else:\n",
        "    print(str(num)+'th')\n",
        " \n",
        "    \n"
      ],
      "metadata": {
        "colab": {
          "base_uri": "https://localhost:8080/"
        },
        "id": "aWLMKVzYRK0D",
        "outputId": "fa4ab653-ddf5-4b87-c81d-ccb375dbbf2f"
      },
      "execution_count": 8,
      "outputs": [
        {
          "output_type": "stream",
          "name": "stdout",
          "text": [
            "1st\n",
            "2nd\n",
            "3rd\n",
            "4th\n",
            "5th\n",
            "6th\n",
            "7th\n",
            "8th\n",
            "9th\n",
            "10th\n"
          ]
        }
      ]
    },
    {
      "cell_type": "code",
      "source": [
        ""
      ],
      "metadata": {
        "id": "-GBlrbHrRK27"
      },
      "execution_count": null,
      "outputs": []
    }
  ]
}
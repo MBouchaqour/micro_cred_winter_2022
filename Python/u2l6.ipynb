{
  "nbformat": 4,
  "nbformat_minor": 0,
  "metadata": {
    "colab": {
      "name": "u2l6.ipynb",
      "provenance": [],
      "collapsed_sections": [],
      "authorship_tag": "ABX9TyMRi9ZRcnc6WBPc0Asw/6SO",
      "include_colab_link": true
    },
    "kernelspec": {
      "name": "python3",
      "display_name": "Python 3"
    },
    "language_info": {
      "name": "python"
    }
  },
  "cells": [
    {
      "cell_type": "markdown",
      "metadata": {
        "id": "view-in-github",
        "colab_type": "text"
      },
      "source": [
        "<a href=\"https://colab.research.google.com/github/MBouchaqour/micro_cred_winter_2022/blob/main/Python/u2l6.ipynb\" target=\"_parent\"><img src=\"https://colab.research.google.com/assets/colab-badge.svg\" alt=\"Open In Colab\"/></a>"
      ]
    },
    {
      "cell_type": "markdown",
      "source": [
        "1.\tCreate a simple dictionary that stores 2 variables, for example: first and last name."
      ],
      "metadata": {
        "id": "K0QJCkCWbXdF"
      }
    },
    {
      "cell_type": "code",
      "source": [
        "simple_dict={'first_name':'John', 'last_name':'Woudry'}\n"
      ],
      "metadata": {
        "id": "hLurR2M1baVr"
      },
      "execution_count": 2,
      "outputs": []
    },
    {
      "cell_type": "markdown",
      "source": [
        "2.\tPrint out those variables stored in your previous dictionary"
      ],
      "metadata": {
        "id": "TqTXzZXXbnPx"
      }
    },
    {
      "cell_type": "code",
      "source": [
        "print(simple_dict)"
      ],
      "metadata": {
        "colab": {
          "base_uri": "https://localhost:8080/"
        },
        "id": "J3A3uHlcbaa4",
        "outputId": "be05053d-07f6-4fda-d142-33b7e9fdbc40"
      },
      "execution_count": 3,
      "outputs": [
        {
          "output_type": "stream",
          "name": "stdout",
          "text": [
            "{'first_name': 'John', 'last_name': 'Woudry'}\n"
          ]
        }
      ]
    },
    {
      "cell_type": "markdown",
      "source": [
        "3.\tAdd a message to those variables on printing: for example: “Hello, firstname lastname!”"
      ],
      "metadata": {
        "id": "IFO0pMyJbvYF"
      }
    },
    {
      "cell_type": "code",
      "source": [
        "print('hello '+simple_dict['first_name'], simple_dict['last_name'])"
      ],
      "metadata": {
        "colab": {
          "base_uri": "https://localhost:8080/"
        },
        "id": "Io5QyD_ebazU",
        "outputId": "7b346fde-d546-4eea-c299-1a37eb5c25cf"
      },
      "execution_count": 5,
      "outputs": [
        {
          "output_type": "stream",
          "name": "stdout",
          "text": [
            "hello John Woudry\n"
          ]
        }
      ]
    },
    {
      "cell_type": "markdown",
      "source": [
        "4.\tCreate a dictionary that holds 2 key: value pairs:\n",
        "\n",
        "a.\tLook through your dictionary and print each pair,\n"
      ],
      "metadata": {
        "id": "OuNFQRdycCYi"
      }
    },
    {
      "cell_type": "code",
      "source": [
        "data={\n",
        "    'first_name':'Emily',\n",
        "    'last_name':'fari',\n",
        "    'age':'23',\n",
        "    'state':'NY',\n",
        "    'city':'Brooklyn',\n",
        "}"
      ],
      "metadata": {
        "id": "lLFrcfT0cDwG"
      },
      "execution_count": 10,
      "outputs": []
    },
    {
      "cell_type": "code",
      "source": [
        "for key, value in data.items():\n",
        "  print(key,\": \", value)"
      ],
      "metadata": {
        "colab": {
          "base_uri": "https://localhost:8080/"
        },
        "id": "LhTCk_mRccgN",
        "outputId": "64e4f449-6313-46d2-ad1e-a85f8cb7e751"
      },
      "execution_count": 12,
      "outputs": [
        {
          "output_type": "stream",
          "name": "stdout",
          "text": [
            "first_name :  Emily\n",
            "last_name :  fari\n",
            "age :  23\n",
            "state :  NY\n",
            "city :  Brooklyn\n"
          ]
        }
      ]
    },
    {
      "cell_type": "markdown",
      "source": [
        "5.\tCreate a nested dictionary containing three dictionaries – these dictionaries could be anything (favorite pets, travel locations, etc.)\n",
        "\n",
        "a.\tLoop through the dictionaries and print a message for each.\n"
      ],
      "metadata": {
        "id": "zzUH3A_ac3IW"
      }
    },
    {
      "cell_type": "code",
      "source": [
        "friend_1={\n",
        "          \"first_name\":'Joseph',\n",
        "          \"last_name\":'Jimy',\n",
        "          \"more_info\": { \n",
        "                        \"favorite_pet\":['cat', 'dog'],\n",
        "                        'favorite_programming_languages':['Python', 'Java'],\n",
        "                        'majors':{\n",
        "                              'science':'math',\n",
        "                              'art':'liberal_art'\n",
        "                        }, }}\n"
      ],
      "metadata": {
        "id": "uuiUZpOrcck0"
      },
      "execution_count": 20,
      "outputs": []
    },
    {
      "cell_type": "code",
      "source": [
        "#printing out the keys we have in friend_1 dictionnary\n",
        "friend_1.keys()"
      ],
      "metadata": {
        "colab": {
          "base_uri": "https://localhost:8080/"
        },
        "id": "-s5riV5yccoS",
        "outputId": "bab4fc15-aa16-4dc7-84d3-2f6ba64ea081"
      },
      "execution_count": 21,
      "outputs": [
        {
          "output_type": "execute_result",
          "data": {
            "text/plain": [
              "dict_keys(['first_name', 'last_name', 'more_info'])"
            ]
          },
          "metadata": {},
          "execution_count": 21
        }
      ]
    },
    {
      "cell_type": "code",
      "source": [
        "#looping through all the disctionaries we have \n",
        "print('All info about my friend\\n')\n",
        "\n",
        "#looping through the outer dictionary\n",
        "for key, value in friend_1.items():\n",
        "  if key!=\"more_info\":\n",
        "    print(key,\":\",value)\n",
        "  else:\n",
        "    print(\"\\nGet to know more info about my friend\\n\")\n",
        "    #looping through the inner_1 dictionary\n",
        "    for k,v in friend_1['more_info'].items():\n",
        "      if k!='majors':\n",
        "        print(k,\":\",v)\n",
        "      else:\n",
        "         print(\"\\nGet to know more info about my friend's majors\\n\")\n",
        "         for k,v in friend_1['more_info']['majors'].items():\n",
        "              print(k,\":\",v)\n",
        "\n",
        "\n",
        "\n",
        "\n",
        "\n"
      ],
      "metadata": {
        "colab": {
          "base_uri": "https://localhost:8080/"
        },
        "id": "xN3_H1oweyxB",
        "outputId": "c0233ff2-9c0c-4f90-be80-62e391c9103c"
      },
      "execution_count": 30,
      "outputs": [
        {
          "output_type": "stream",
          "name": "stdout",
          "text": [
            "All info about my friend\n",
            "\n",
            "first_name : Joseph\n",
            "last_name : Jimy\n",
            "\n",
            "Get to know more info about my friend\n",
            "\n",
            "favorite_pet : ['cat', 'dog']\n",
            "favorite_programming_languages : ['Python', 'Java']\n",
            "\n",
            "Get to know more info about my friend's majors\n",
            "\n",
            "science : math\n",
            "art : liberal_art\n"
          ]
        }
      ]
    }
  ]
}